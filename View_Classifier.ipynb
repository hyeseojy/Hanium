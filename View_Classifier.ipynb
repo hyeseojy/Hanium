{
  "nbformat": 4,
  "nbformat_minor": 0,
  "metadata": {
    "colab": {
      "name": "View_Classifier.ipynb",
      "provenance": [],
      "collapsed_sections": [],
      "include_colab_link": true
    },
    "kernelspec": {
      "name": "python3",
      "display_name": "Python 3"
    },
    "language_info": {
      "name": "python"
    }
  },
  "cells": [
    {
      "cell_type": "markdown",
      "metadata": {
        "id": "view-in-github",
        "colab_type": "text"
      },
      "source": [
        "<a href=\"https://colab.research.google.com/github/hyeseojy/Hanium_Pedestrian-Health-Prediction-with-Deep-Learning/blob/main/View_Classifier.ipynb\" target=\"_parent\"><img src=\"https://colab.research.google.com/assets/colab-badge.svg\" alt=\"Open In Colab\"/></a>"
      ]
    },
    {
      "cell_type": "code",
      "metadata": {
        "colab": {
          "base_uri": "https://localhost:8080/"
        },
        "id": "vX5BymtiAwt-",
        "outputId": "2172766c-42ba-4d76-8d83-aa0df0f81415"
      },
      "source": [
        "from google.colab import drive\n",
        "drive.mount('/content/drive')"
      ],
      "execution_count": 103,
      "outputs": [
        {
          "output_type": "stream",
          "text": [
            "Drive already mounted at /content/drive; to attempt to forcibly remount, call drive.mount(\"/content/drive\", force_remount=True).\n"
          ],
          "name": "stdout"
        }
      ]
    },
    {
      "cell_type": "code",
      "metadata": {
        "id": "Rjq0sxiZAnwo"
      },
      "source": [
        "from tensorflow.python.keras.models import load_model"
      ],
      "execution_count": 104,
      "outputs": []
    },
    {
      "cell_type": "code",
      "metadata": {
        "id": "swbLzzpuAhvz"
      },
      "source": [
        "model = load_model('/content/drive/MyDrive/walking_model.h5')"
      ],
      "execution_count": 105,
      "outputs": []
    },
    {
      "cell_type": "code",
      "metadata": {
        "colab": {
          "base_uri": "https://localhost:8080/"
        },
        "id": "aF-yHXycAreq",
        "outputId": "5b65fd6c-69d2-4b08-f888-2ba8b4cd3d14"
      },
      "source": [
        "model.summary()"
      ],
      "execution_count": 106,
      "outputs": [
        {
          "output_type": "stream",
          "text": [
            "Model: \"model\"\n",
            "_________________________________________________________________\n",
            "Layer (type)                 Output Shape              Param #   \n",
            "=================================================================\n",
            "input_1 (InputLayer)         [(None, 128, 6, 1)]       0         \n",
            "_________________________________________________________________\n",
            "conv2d (Conv2D)              (None, 124, 6, 64)        384       \n",
            "_________________________________________________________________\n",
            "conv2d_1 (Conv2D)            (None, 120, 6, 64)        20544     \n",
            "_________________________________________________________________\n",
            "conv2d_2 (Conv2D)            (None, 116, 6, 64)        20544     \n",
            "_________________________________________________________________\n",
            "conv2d_3 (Conv2D)            (None, 112, 6, 64)        20544     \n",
            "_________________________________________________________________\n",
            "reshape (Reshape)            (None, 112, 384)          0         \n",
            "_________________________________________________________________\n",
            "lstm_1 (LSTM)                (None, 112, 128)          262656    \n",
            "_________________________________________________________________\n",
            "dot_1 (Dropout)              (None, 112, 128)          0         \n",
            "_________________________________________________________________\n",
            "lstm_2 (LSTM)                (None, 128)               131584    \n",
            "_________________________________________________________________\n",
            "dot_2 (Dropout)              (None, 128)               0         \n",
            "_________________________________________________________________\n",
            "act_sigmoid (Dense)          (None, 1)                 129       \n",
            "=================================================================\n",
            "Total params: 456,385\n",
            "Trainable params: 456,385\n",
            "Non-trainable params: 0\n",
            "_________________________________________________________________\n"
          ],
          "name": "stdout"
        }
      ]
    },
    {
      "cell_type": "code",
      "metadata": {
        "id": "D-v0cN7qAtRt"
      },
      "source": [
        "import pandas as pd"
      ],
      "execution_count": 107,
      "outputs": []
    },
    {
      "cell_type": "code",
      "metadata": {
        "id": "VBcqAsE1A0c5"
      },
      "source": [
        "data = pd.read_csv('/content/drive/MyDrive/walkstream.csv')"
      ],
      "execution_count": 108,
      "outputs": []
    },
    {
      "cell_type": "code",
      "metadata": {
        "colab": {
          "base_uri": "https://localhost:8080/",
          "height": 400
        },
        "id": "WGKk0VGDA6xm",
        "outputId": "50d35a09-0939-4a93-dd55-ee42295c696b"
      },
      "source": [
        "data"
      ],
      "execution_count": 109,
      "outputs": [
        {
          "output_type": "execute_result",
          "data": {
            "text/html": [
              "<div>\n",
              "<style scoped>\n",
              "    .dataframe tbody tr th:only-of-type {\n",
              "        vertical-align: middle;\n",
              "    }\n",
              "\n",
              "    .dataframe tbody tr th {\n",
              "        vertical-align: top;\n",
              "    }\n",
              "\n",
              "    .dataframe thead th {\n",
              "        text-align: right;\n",
              "    }\n",
              "</style>\n",
              "<table border=\"1\" class=\"dataframe\">\n",
              "  <thead>\n",
              "    <tr style=\"text-align: right;\">\n",
              "      <th></th>\n",
              "      <th>-2.614</th>\n",
              "      <th>1.729</th>\n",
              "      <th>7.465</th>\n",
              "      <th>-0.339</th>\n",
              "      <th>0.12</th>\n",
              "      <th>0.405</th>\n",
              "    </tr>\n",
              "  </thead>\n",
              "  <tbody>\n",
              "    <tr>\n",
              "      <th>0</th>\n",
              "      <td>-2.782</td>\n",
              "      <td>1.707</td>\n",
              "      <td>8.892</td>\n",
              "      <td>0.623</td>\n",
              "      <td>-0.001</td>\n",
              "      <td>0.308</td>\n",
              "    </tr>\n",
              "    <tr>\n",
              "      <th>1</th>\n",
              "      <td>-2.425</td>\n",
              "      <td>1.197</td>\n",
              "      <td>9.251</td>\n",
              "      <td>0.559</td>\n",
              "      <td>0.169</td>\n",
              "      <td>0.525</td>\n",
              "    </tr>\n",
              "    <tr>\n",
              "      <th>2</th>\n",
              "      <td>-3.831</td>\n",
              "      <td>1.092</td>\n",
              "      <td>9.122</td>\n",
              "      <td>-0.672</td>\n",
              "      <td>-0.183</td>\n",
              "      <td>-0.068</td>\n",
              "    </tr>\n",
              "    <tr>\n",
              "      <th>3</th>\n",
              "      <td>-2.787</td>\n",
              "      <td>1.642</td>\n",
              "      <td>7.291</td>\n",
              "      <td>0.043</td>\n",
              "      <td>0.123</td>\n",
              "      <td>-0.132</td>\n",
              "    </tr>\n",
              "    <tr>\n",
              "      <th>4</th>\n",
              "      <td>-3.328</td>\n",
              "      <td>1.058</td>\n",
              "      <td>6.654</td>\n",
              "      <td>0.364</td>\n",
              "      <td>0.170</td>\n",
              "      <td>-0.015</td>\n",
              "    </tr>\n",
              "    <tr>\n",
              "      <th>...</th>\n",
              "      <td>...</td>\n",
              "      <td>...</td>\n",
              "      <td>...</td>\n",
              "      <td>...</td>\n",
              "      <td>...</td>\n",
              "      <td>...</td>\n",
              "    </tr>\n",
              "    <tr>\n",
              "      <th>156</th>\n",
              "      <td>-3.661</td>\n",
              "      <td>-0.412</td>\n",
              "      <td>8.409</td>\n",
              "      <td>0.796</td>\n",
              "      <td>-1.789</td>\n",
              "      <td>0.155</td>\n",
              "    </tr>\n",
              "    <tr>\n",
              "      <th>157</th>\n",
              "      <td>-2.737</td>\n",
              "      <td>-0.409</td>\n",
              "      <td>8.023</td>\n",
              "      <td>0.762</td>\n",
              "      <td>-1.040</td>\n",
              "      <td>0.125</td>\n",
              "    </tr>\n",
              "    <tr>\n",
              "      <th>158</th>\n",
              "      <td>-2.227</td>\n",
              "      <td>-0.194</td>\n",
              "      <td>8.327</td>\n",
              "      <td>0.626</td>\n",
              "      <td>-0.878</td>\n",
              "      <td>0.158</td>\n",
              "    </tr>\n",
              "    <tr>\n",
              "      <th>159</th>\n",
              "      <td>-2.277</td>\n",
              "      <td>0.065</td>\n",
              "      <td>9.757</td>\n",
              "      <td>0.441</td>\n",
              "      <td>-0.895</td>\n",
              "      <td>0.210</td>\n",
              "    </tr>\n",
              "    <tr>\n",
              "      <th>160</th>\n",
              "      <td>-1.946</td>\n",
              "      <td>0.419</td>\n",
              "      <td>9.443</td>\n",
              "      <td>0.267</td>\n",
              "      <td>-0.749</td>\n",
              "      <td>0.111</td>\n",
              "    </tr>\n",
              "  </tbody>\n",
              "</table>\n",
              "<p>161 rows × 6 columns</p>\n",
              "</div>"
            ],
            "text/plain": [
              "     -2.614  1.729  7.465  -0.339   0.12  0.405\n",
              "0    -2.782  1.707  8.892   0.623 -0.001  0.308\n",
              "1    -2.425  1.197  9.251   0.559  0.169  0.525\n",
              "2    -3.831  1.092  9.122  -0.672 -0.183 -0.068\n",
              "3    -2.787  1.642  7.291   0.043  0.123 -0.132\n",
              "4    -3.328  1.058  6.654   0.364  0.170 -0.015\n",
              "..      ...    ...    ...     ...    ...    ...\n",
              "156  -3.661 -0.412  8.409   0.796 -1.789  0.155\n",
              "157  -2.737 -0.409  8.023   0.762 -1.040  0.125\n",
              "158  -2.227 -0.194  8.327   0.626 -0.878  0.158\n",
              "159  -2.277  0.065  9.757   0.441 -0.895  0.210\n",
              "160  -1.946  0.419  9.443   0.267 -0.749  0.111\n",
              "\n",
              "[161 rows x 6 columns]"
            ]
          },
          "metadata": {
            "tags": []
          },
          "execution_count": 109
        }
      ]
    },
    {
      "cell_type": "code",
      "metadata": {
        "colab": {
          "base_uri": "https://localhost:8080/",
          "height": 370
        },
        "id": "UKzv02PrA-CA",
        "outputId": "3a2bc832-e0b7-499c-b788-d8d8673beba2"
      },
      "source": [
        "import matplotlib.pyplot as plt\n",
        "plt.plot(data)"
      ],
      "execution_count": 110,
      "outputs": [
        {
          "output_type": "execute_result",
          "data": {
            "text/plain": [
              "[<matplotlib.lines.Line2D at 0x7f894d537dd0>,\n",
              " <matplotlib.lines.Line2D at 0x7f894d537fd0>,\n",
              " <matplotlib.lines.Line2D at 0x7f894d5431d0>,\n",
              " <matplotlib.lines.Line2D at 0x7f894d543390>,\n",
              " <matplotlib.lines.Line2D at 0x7f894d543550>,\n",
              " <matplotlib.lines.Line2D at 0x7f894d543710>]"
            ]
          },
          "metadata": {
            "tags": []
          },
          "execution_count": 110
        },
        {
          "output_type": "display_data",
          "data": {
            "image/png": "[encoded data removed]",
            "text/plain": [
              "<Figure size 432x288 with 1 Axes>"
            ]
          },
          "metadata": {
            "tags": [],
            "needs_background": "light"
          }
        }
      ]
    },
    {
      "cell_type": "code",
      "metadata": {
        "id": "-MjdYvRcL0LR"
      },
      "source": [
        "data = data.iloc[0 : 128, 0 : 6]"
      ],
      "execution_count": 111,
      "outputs": []
    },
    {
      "cell_type": "code",
      "metadata": {
        "id": "5dpjJ9H9x8NB"
      },
      "source": [
        "import numpy as np\n",
        "from scipy.signal import butter, filtfilt"
      ],
      "execution_count": 112,
      "outputs": []
    },
    {
      "cell_type": "code",
      "metadata": {
        "id": "25FxsghHxo1K"
      },
      "source": [
        "def butter_lowpass_filter(data, cutoff, fs, order):\n",
        "    normal_cutoff = cutoff / nyq\n",
        "    b, a = butter(order, normal_cutoff, btype='low', analog=False)\n",
        "    y = filtfilt(b, a, data)\n",
        "    return y"
      ],
      "execution_count": 113,
      "outputs": []
    },
    {
      "cell_type": "code",
      "metadata": {
        "id": "zohHyuPsyDU5"
      },
      "source": [
        "T = 3.0  # Sample Preriod (sec)\n",
        "fs = 50.0  # Sample rate (Hz)\n",
        "cutoff = 20  # Cutoff Frequency (Hz) : slightly higher than actual 1.2Hz\n",
        "\n",
        "nyq = 0.5 * fs  # Nyquist Frequency\n",
        "\n",
        "order = 3\n",
        "n = int(T * fs) "
      ],
      "execution_count": 114,
      "outputs": []
    },
    {
      "cell_type": "code",
      "metadata": {
        "id": "CZWP02mC4-G7",
        "outputId": "54f87276-a528-4e67-f815-a2ede466ef8e",
        "colab": {
          "base_uri": "https://localhost:8080/"
        }
      },
      "source": [
        "data.shape"
      ],
      "execution_count": 115,
      "outputs": [
        {
          "output_type": "execute_result",
          "data": {
            "text/plain": [
              "(128, 6)"
            ]
          },
          "metadata": {
            "tags": []
          },
          "execution_count": 115
        }
      ]
    },
    {
      "cell_type": "code",
      "metadata": {
        "colab": {
          "base_uri": "https://localhost:8080/",
          "height": 316
        },
        "id": "roA7IP4hykgu",
        "outputId": "bdc56668-33d0-49c9-933b-1703dfb17718"
      },
      "source": [
        "AP_data = butter_lowpass_filter(data, cutoff, fs, order)"
      ],
      "execution_count": 116,
      "outputs": [
        {
          "output_type": "error",
          "ename": "ValueError",
          "evalue": "ignored",
          "traceback": [
            "\u001b[0;31m---------------------------------------------------------------------------\u001b[0m",
            "\u001b[0;31mValueError\u001b[0m                                Traceback (most recent call last)",
            "\u001b[0;32m<ipython-input-116-02c129aee14e>\u001b[0m in \u001b[0;36m<module>\u001b[0;34m()\u001b[0m\n\u001b[0;32m----> 1\u001b[0;31m \u001b[0mAP_data\u001b[0m \u001b[0;34m=\u001b[0m \u001b[0mbutter_lowpass_filter\u001b[0m\u001b[0;34m(\u001b[0m\u001b[0mdata\u001b[0m\u001b[0;34m,\u001b[0m \u001b[0mcutoff\u001b[0m\u001b[0;34m,\u001b[0m \u001b[0mfs\u001b[0m\u001b[0;34m,\u001b[0m \u001b[0morder\u001b[0m\u001b[0;34m)\u001b[0m\u001b[0;34m\u001b[0m\u001b[0;34m\u001b[0m\u001b[0m\n\u001b[0m",
            "\u001b[0;32m<ipython-input-113-5e08bc05f995>\u001b[0m in \u001b[0;36mbutter_lowpass_filter\u001b[0;34m(data, cutoff, fs, order)\u001b[0m\n\u001b[1;32m      2\u001b[0m     \u001b[0mnormal_cutoff\u001b[0m \u001b[0;34m=\u001b[0m \u001b[0mcutoff\u001b[0m \u001b[0;34m/\u001b[0m \u001b[0mnyq\u001b[0m\u001b[0;34m\u001b[0m\u001b[0;34m\u001b[0m\u001b[0m\n\u001b[1;32m      3\u001b[0m     \u001b[0mb\u001b[0m\u001b[0;34m,\u001b[0m \u001b[0ma\u001b[0m \u001b[0;34m=\u001b[0m \u001b[0mbutter\u001b[0m\u001b[0;34m(\u001b[0m\u001b[0morder\u001b[0m\u001b[0;34m,\u001b[0m \u001b[0mnormal_cutoff\u001b[0m\u001b[0;34m,\u001b[0m \u001b[0mbtype\u001b[0m\u001b[0;34m=\u001b[0m\u001b[0;34m'low'\u001b[0m\u001b[0;34m,\u001b[0m \u001b[0manalog\u001b[0m\u001b[0;34m=\u001b[0m\u001b[0;32mFalse\u001b[0m\u001b[0;34m)\u001b[0m\u001b[0;34m\u001b[0m\u001b[0;34m\u001b[0m\u001b[0m\n\u001b[0;32m----> 4\u001b[0;31m     \u001b[0my\u001b[0m \u001b[0;34m=\u001b[0m \u001b[0mfiltfilt\u001b[0m\u001b[0;34m(\u001b[0m\u001b[0mb\u001b[0m\u001b[0;34m,\u001b[0m \u001b[0ma\u001b[0m\u001b[0;34m,\u001b[0m \u001b[0mdata\u001b[0m\u001b[0;34m)\u001b[0m\u001b[0;34m\u001b[0m\u001b[0;34m\u001b[0m\u001b[0m\n\u001b[0m\u001b[1;32m      5\u001b[0m     \u001b[0;32mreturn\u001b[0m \u001b[0my\u001b[0m\u001b[0;34m\u001b[0m\u001b[0;34m\u001b[0m\u001b[0m\n",
            "\u001b[0;32m/usr/local/lib/python3.7/dist-packages/scipy/signal/signaltools.py\u001b[0m in \u001b[0;36mfiltfilt\u001b[0;34m(b, a, x, axis, padtype, padlen, method, irlen)\u001b[0m\n\u001b[1;32m   3855\u001b[0m     \u001b[0;31m# method == \"pad\"\u001b[0m\u001b[0;34m\u001b[0m\u001b[0;34m\u001b[0m\u001b[0;34m\u001b[0m\u001b[0m\n\u001b[1;32m   3856\u001b[0m     edge, ext = _validate_pad(padtype, padlen, x, axis,\n\u001b[0;32m-> 3857\u001b[0;31m                               ntaps=max(len(a), len(b)))\n\u001b[0m\u001b[1;32m   3858\u001b[0m \u001b[0;34m\u001b[0m\u001b[0m\n\u001b[1;32m   3859\u001b[0m     \u001b[0;31m# Get the steady state of the filter's step response.\u001b[0m\u001b[0;34m\u001b[0m\u001b[0;34m\u001b[0m\u001b[0;34m\u001b[0m\u001b[0m\n",
            "\u001b[0;32m/usr/local/lib/python3.7/dist-packages/scipy/signal/signaltools.py\u001b[0m in \u001b[0;36m_validate_pad\u001b[0;34m(padtype, padlen, x, axis, ntaps)\u001b[0m\n\u001b[1;32m   3905\u001b[0m     \u001b[0;32mif\u001b[0m \u001b[0mx\u001b[0m\u001b[0;34m.\u001b[0m\u001b[0mshape\u001b[0m\u001b[0;34m[\u001b[0m\u001b[0maxis\u001b[0m\u001b[0;34m]\u001b[0m \u001b[0;34m<=\u001b[0m \u001b[0medge\u001b[0m\u001b[0;34m:\u001b[0m\u001b[0;34m\u001b[0m\u001b[0;34m\u001b[0m\u001b[0m\n\u001b[1;32m   3906\u001b[0m         raise ValueError(\"The length of the input vector x must be greater than \"\n\u001b[0;32m-> 3907\u001b[0;31m                          \"padlen, which is %d.\" % edge)\n\u001b[0m\u001b[1;32m   3908\u001b[0m \u001b[0;34m\u001b[0m\u001b[0m\n\u001b[1;32m   3909\u001b[0m     \u001b[0;32mif\u001b[0m \u001b[0mpadtype\u001b[0m \u001b[0;32mis\u001b[0m \u001b[0;32mnot\u001b[0m \u001b[0;32mNone\u001b[0m \u001b[0;32mand\u001b[0m \u001b[0medge\u001b[0m \u001b[0;34m>\u001b[0m \u001b[0;36m0\u001b[0m\u001b[0;34m:\u001b[0m\u001b[0;34m\u001b[0m\u001b[0;34m\u001b[0m\u001b[0m\n",
            "\u001b[0;31mValueError\u001b[0m: The length of the input vector x must be greater than padlen, which is 12."
          ]
        }
      ]
    },
    {
      "cell_type": "code",
      "metadata": {
        "id": "M9gNOZM5BA7w"
      },
      "source": [
        "test_data = np.expand_dims(data,2)"
      ],
      "execution_count": null,
      "outputs": []
    },
    {
      "cell_type": "code",
      "metadata": {
        "id": "f-WJYyF2BHsL"
      },
      "source": [
        "test_data.shape"
      ],
      "execution_count": null,
      "outputs": []
    },
    {
      "cell_type": "code",
      "metadata": {
        "id": "etIw0jjwBTGs"
      },
      "source": [
        "test_data = np.expand_dims(test_data,0)"
      ],
      "execution_count": null,
      "outputs": []
    },
    {
      "cell_type": "code",
      "metadata": {
        "id": "2k1DzqLnBXRT"
      },
      "source": [
        "test_data.shape"
      ],
      "execution_count": null,
      "outputs": []
    },
    {
      "cell_type": "code",
      "metadata": {
        "id": "WNnIWzJJytSU"
      },
      "source": [
        "plt.plot(test_data)"
      ],
      "execution_count": null,
      "outputs": []
    },
    {
      "cell_type": "code",
      "metadata": {
        "id": "bLfPWH4QBYAw"
      },
      "source": [
        "score = model.predict(test_data)"
      ],
      "execution_count": null,
      "outputs": []
    },
    {
      "cell_type": "code",
      "metadata": {
        "id": "j7LcIKGuc-mQ"
      },
      "source": [
        "score"
      ],
      "execution_count": null,
      "outputs": []
    },
    {
      "cell_type": "code",
      "metadata": {
        "id": "CsMKQ1BABaC1"
      },
      "source": [
        "if score > 0.5:\n",
        "    print(\"비정상\")\n",
        "\n",
        "else:\n",
        "    print(\" 정상 \")"
      ],
      "execution_count": null,
      "outputs": []
    },
    {
      "cell_type": "code",
      "metadata": {
        "id": "UvBDntbldGK-"
      },
      "source": [
        ""
      ],
      "execution_count": null,
      "outputs": []
    }
  ]
}